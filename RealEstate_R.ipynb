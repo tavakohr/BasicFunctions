{
  "nbformat": 4,
  "nbformat_minor": 0,
  "metadata": {
    "colab": {
      "name": "RealEstate.R.ipynb",
      "provenance": [],
      "authorship_tag": "ABX9TyPBQIDq4DtHRIFZi2N3SfLr",
      "include_colab_link": true
    },
    "kernelspec": {
      "name": "python3",
      "display_name": "Python 3"
    },
    "language_info": {
      "name": "python"
    }
  },
  "cells": [
    {
      "cell_type": "markdown",
      "metadata": {
        "id": "view-in-github",
        "colab_type": "text"
      },
      "source": [
        "<a href=\"https://colab.research.google.com/github/tavakohr/BasicFunctions/blob/master/RealEstate_R.ipynb\" target=\"_parent\"><img src=\"https://colab.research.google.com/assets/colab-badge.svg\" alt=\"Open In Colab\"/></a>"
      ]
    },
    {
      "cell_type": "markdown",
      "metadata": {
        "id": "9daH0S4Yf5qL"
      },
      "source": [
        "# R Project to predic the sale price"
      ]
    },
    {
      "cell_type": "code",
      "metadata": {
        "colab": {
          "base_uri": "https://localhost:8080/"
        },
        "id": "i-nsh0Alf7GQ",
        "outputId": "c19e5fe1-8c9f-43b5-bc32-63fc1b742d62"
      },
      "source": [
        "%load_ext rpy2.ipython\n",
        "from google.colab import files"
      ],
      "execution_count": 2,
      "outputs": [
        {
          "output_type": "stream",
          "text": [
            "The rpy2.ipython extension is already loaded. To reload it, use:\n",
            "  %reload_ext rpy2.ipython\n"
          ],
          "name": "stdout"
        }
      ]
    },
    {
      "cell_type": "markdown",
      "metadata": {
        "id": "QopbXpUhghvz"
      },
      "source": [
        "##1.1 load spreadsheet for training "
      ]
    },
    {
      "cell_type": "code",
      "metadata": {
        "colab": {
          "resources": {
            "http://localhost:8080/nbextensions/google.colab/files.js": {
              "data": "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",
              "ok": true,
              "headers": [
                [
                  "content-type",
                  "application/javascript"
                ]
              ],
              "status": 200,
              "status_text": ""
            }
          },
          "base_uri": "https://localhost:8080/",
          "height": 72
        },
        "id": "FkdJCteagcaG",
        "outputId": "6721ad00-db00-45cd-d698-070d6cf37968"
      },
      "source": [
        "Spreadsheet = files.upload()"
      ],
      "execution_count": 3,
      "outputs": [
        {
          "output_type": "display_data",
          "data": {
            "text/html": [
              "\n",
              "     <input type=\"file\" id=\"files-b2e8efa0-4108-470a-b5c3-09d0cada1488\" name=\"files[]\" multiple disabled\n",
              "        style=\"border:none\" />\n",
              "     <output id=\"result-b2e8efa0-4108-470a-b5c3-09d0cada1488\">\n",
              "      Upload widget is only available when the cell has been executed in the\n",
              "      current browser session. Please rerun this cell to enable.\n",
              "      </output>\n",
              "      <script src=\"/nbextensions/google.colab/files.js\"></script> "
            ],
            "text/plain": [
              "<IPython.core.display.HTML object>"
            ]
          },
          "metadata": {
            "tags": []
          }
        },
        {
          "output_type": "stream",
          "text": [
            "Saving Spreadsheet-5.xlsx to Spreadsheet-5.xlsx\n"
          ],
          "name": "stdout"
        }
      ]
    },
    {
      "cell_type": "markdown",
      "metadata": {
        "id": "Lj7axL5Xgqnn"
      },
      "source": [
        "##1.2  load HPI index"
      ]
    },
    {
      "cell_type": "code",
      "metadata": {
        "colab": {
          "resources": {
            "http://localhost:8080/nbextensions/google.colab/files.js": {
              "data": "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",
              "ok": true,
              "headers": [
                [
                  "content-type",
                  "application/javascript"
                ]
              ],
              "status": 200,
              "status_text": ""
            }
          },
          "base_uri": "https://localhost:8080/",
          "height": 72
        },
        "id": "SgfH24zKgWGC",
        "outputId": "c3622445-6368-4424-ad93-2fdfaebd670b"
      },
      "source": [
        "HPI = files.upload()"
      ],
      "execution_count": 4,
      "outputs": [
        {
          "output_type": "display_data",
          "data": {
            "text/html": [
              "\n",
              "     <input type=\"file\" id=\"files-38fb75a0-251b-433c-ad59-29e571306574\" name=\"files[]\" multiple disabled\n",
              "        style=\"border:none\" />\n",
              "     <output id=\"result-38fb75a0-251b-433c-ad59-29e571306574\">\n",
              "      Upload widget is only available when the cell has been executed in the\n",
              "      current browser session. Please rerun this cell to enable.\n",
              "      </output>\n",
              "      <script src=\"/nbextensions/google.colab/files.js\"></script> "
            ],
            "text/plain": [
              "<IPython.core.display.HTML object>"
            ]
          },
          "metadata": {
            "tags": []
          }
        },
        {
          "output_type": "stream",
          "text": [
            "Saving HPI.csv to HPI.csv\n"
          ],
          "name": "stdout"
        }
      ]
    },
    {
      "cell_type": "markdown",
      "metadata": {
        "id": "J4Pc0WangvMp"
      },
      "source": [
        "## 1.3 load Sale to Active index"
      ]
    },
    {
      "cell_type": "code",
      "metadata": {
        "colab": {
          "resources": {
            "http://localhost:8080/nbextensions/google.colab/files.js": {
              "data": "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",
              "ok": true,
              "headers": [
                [
                  "content-type",
                  "application/javascript"
                ]
              ],
              "status": 200,
              "status_text": ""
            }
          },
          "base_uri": "https://localhost:8080/",
          "height": 72
        },
        "id": "4K-rLGndgW-g",
        "outputId": "18b241fd-974e-4047-a545-829ba913bdf2"
      },
      "source": [
        "SaleToActive= files.upload()"
      ],
      "execution_count": 5,
      "outputs": [
        {
          "output_type": "display_data",
          "data": {
            "text/html": [
              "\n",
              "     <input type=\"file\" id=\"files-1f207cbb-a587-476a-bcab-deda56cbab6a\" name=\"files[]\" multiple disabled\n",
              "        style=\"border:none\" />\n",
              "     <output id=\"result-1f207cbb-a587-476a-bcab-deda56cbab6a\">\n",
              "      Upload widget is only available when the cell has been executed in the\n",
              "      current browser session. Please rerun this cell to enable.\n",
              "      </output>\n",
              "      <script src=\"/nbextensions/google.colab/files.js\"></script> "
            ],
            "text/plain": [
              "<IPython.core.display.HTML object>"
            ]
          },
          "metadata": {
            "tags": []
          }
        },
        {
          "output_type": "stream",
          "text": [
            "Saving SaleToActive.csv to SaleToActive.csv\n"
          ],
          "name": "stdout"
        }
      ]
    },
    {
      "cell_type": "code",
      "metadata": {
        "id": "NHkH7Kcw4XtS"
      },
      "source": [
        "%%R\n",
        "if (!require(gridExtra)) install.packages('gridExtra')"
      ],
      "execution_count": 192,
      "outputs": []
    },
    {
      "cell_type": "code",
      "metadata": {
        "id": "DUoaqkLprVfS"
      },
      "source": [
        "%%R\n",
        "if (!require(fastDummies)) install.packages('fastDummies')"
      ],
      "execution_count": 193,
      "outputs": []
    },
    {
      "cell_type": "code",
      "metadata": {
        "id": "-P3giOnBpe3A"
      },
      "source": [
        "%%R\n",
        "if (!require(lme4)) install.packages('lme4')\n",
        "if (!require(caret)) install.packages('caret')\n",
        "\n"
      ],
      "execution_count": 194,
      "outputs": []
    },
    {
      "cell_type": "markdown",
      "metadata": {
        "id": "FluwOIJ0g48U"
      },
      "source": [
        "## 1.4 load requirements"
      ]
    },
    {
      "cell_type": "code",
      "metadata": {
        "id": "IXlYCMYgLFGv",
        "colab": {
          "base_uri": "https://localhost:8080/"
        },
        "outputId": "5b7c69ea-62be-4de4-c9c7-cc48c3982861"
      },
      "source": [
        "%%R\n",
        "library(readxl)\n",
        "library(tidyverse)\n",
        "library(lme4)\n",
        "library(caret)\n",
        "library(lubridate)\n",
        "library(rpart)\n",
        "library(readxl)\n",
        "library(fastDummies)\n",
        "library(gridExtra)"
      ],
      "execution_count": 129,
      "outputs": [
        {
          "output_type": "stream",
          "text": [
            "R[write to console]: \n",
            "Attaching package: ‘gridExtra’\n",
            "\n",
            "\n",
            "R[write to console]: The following object is masked from ‘package:dplyr’:\n",
            "\n",
            "    combine\n",
            "\n",
            "\n"
          ],
          "name": "stderr"
        }
      ]
    },
    {
      "cell_type": "markdown",
      "metadata": {
        "id": "wLlnKmIshSg-"
      },
      "source": [
        "## 1.5 Create Calibration plot function"
      ]
    },
    {
      "cell_type": "code",
      "metadata": {
        "id": "2zQbm8KxJ4Y4"
      },
      "source": [
        "%%R\n",
        "myrank<-function(longvector){\n",
        "  longvector_orderd<-sort(longvector)\n",
        "  bin=length(longvector_orderd)/10\n",
        "  rank=floor((row_number(longvector_orderd)-1)/bin)\n",
        "  df=cbind.data.frame(rank=rank ,longvector)\n",
        "  return(df)\n",
        "  \n",
        "}\n",
        "\n",
        "\n",
        "caliberPlot<-function(observed, prdedict){\n",
        "  \n",
        "  \n",
        "  calib_pred<-myrank(prdedict) \n",
        "  calib_pred<-cbind.data.frame(calib_pred,observed=observed)\n",
        "  \n",
        "  \n",
        "  gdf=calib_pred %>% group_by(rank) %>% summarise(mean_predict=mean(longvector))\n",
        "  gdf2=calib_pred %>% group_by(rank) %>% summarise(mean_observed=mean(observed))\n",
        "  gdf3<-cbind.data.frame(gdf,gdf2[,2])\n",
        "  \n",
        "  ggplot(data=gdf3,aes(x=mean_predict,y=mean_observed))+geom_line()+geom_abline(colour='blue')\n",
        "}"
      ],
      "execution_count": 146,
      "outputs": []
    },
    {
      "cell_type": "markdown",
      "metadata": {
        "id": "KKCzm8Glhfku"
      },
      "source": [
        "#2 Data Cleaning"
      ]
    },
    {
      "cell_type": "markdown",
      "metadata": {
        "id": "dZjM6S8zLn-H"
      },
      "source": [
        "## 2.1- import and clean sale records ################################"
      ]
    },
    {
      "cell_type": "code",
      "metadata": {
        "id": "ohZ1eFOe7unX"
      },
      "source": [
        "%%R\n",
        "a_imported<-read_excel('Spreadsheet-5.xlsx', sheet='Spreadsheet-5')\n",
        "a_imported<-a_imported %>%   rename( List.Date ='List Date' )\n",
        "a_imported<-a_imported %>%   rename( Tax ='Gross Taxes' ) %>% \n",
        "  rename( Tot.BR ='Tot BR' ) %>% rename( Tot.Baths ='Tot Baths' ) %>%  rename(  Kitchens  ='#Kitchens' ) %>% \n",
        "  rename(  Distance.Pub  ='Distance to Pub/Rapid Tr' ) %>% \n",
        "  rename(  Lot  ='Lot Sz (Sq.Ft.)' ) %>%   rename(  Style.of.Home  ='Style of Home' ) %>%   rename(  Yr.Blt  ='Yr Blt' ) %>% \n",
        "  rename(  ML..  ='ML #' ) %>%   rename( Approx.Yr.of.Renos.Addns='Approx.Yr of Renos/Addns' ) %>% \n",
        "  rename( S.A='S/A' ) %>% \n",
        "  rename( ML='ML..' ) %>% \n",
        "  filter(TypeDwel=='HOUSE', Tax>0)\n",
        "\n",
        "a_imported<-a_imported %>% filter(Address!='' )\n",
        "#a_imported$List.Date <- mdy(a_imported$ List.Date)\n",
        "a_imported$Price=as.numeric(gsub('\\\\$|,', '', a_imported$Price))\n"
      ],
      "execution_count": 56,
      "outputs": []
    },
    {
      "cell_type": "code",
      "metadata": {
        "colab": {
          "base_uri": "https://localhost:8080/"
        },
        "id": "z-L4zYB-lqkj",
        "outputId": "8037c2a1-adf7-4983-d5a4-6b016b49c7fd"
      },
      "source": [
        "%%R\n",
        "names(a_imported)"
      ],
      "execution_count": 57,
      "outputs": [
        {
          "output_type": "stream",
          "text": [
            " [1] \"ML\"                        \"Address\"                  \n",
            " [3] \"City\"                      \"S.A\"                      \n",
            " [5] \"Price\"                     \"ListPrice\"                \n",
            " [7] \"OriginalPrice\"             \"List.Date\"                \n",
            " [9] \"DOM\"                       \"Tot.BR\"                   \n",
            "[11] \"Tot.Baths\"                 \"TotFlArea\"                \n",
            "[13] \"Yr.Blt\"                    \"Age\"                      \n",
            "[15] \"Frontage - Feet\"           \"Depth\"                    \n",
            "[17] \"Kitchens\"                  \"TypeDwel\"                 \n",
            "[19] \"Style.of.Home\"             \"Price Per SQFT\"           \n",
            "[21] \"Sold Price per SqFt\"       \"Lot\"                      \n",
            "[23] \"Zoning\"                    \"Approx.Yr.of.Renos.Addns\" \n",
            "[25] \"Distance.Pub\"              \"Parking Places - Total\"   \n",
            "[27] \"Title to Land\"             \"Tax\"                      \n",
            "[29] \"Age Type\"                  \"Area\"                     \n",
            "[31] \"Billing\"                   \"Board Loaded Listing\"     \n",
            "[33] \"Broker Reciprocity\"        \"Class\"                    \n",
            "[35] \"Commission\"                \"Complex/Subdivision Name\" \n",
            "[37] \"Concatenated Rooms\"        \"Crawl Height\"             \n",
            "[39] \"Deposit\"                   \"Display Addr on Internet\" \n",
            "[41] \"Doc Manager\"               \"Driveway Finish\"          \n",
            "[43] \"Dwelling Classification\"   \"Fake Listing\"             \n",
            "[45] \"Fireplaces\"                \"Fixtures Remvd\"           \n",
            "[47] \"Flood Plain\"               \"For Tax Year\"             \n",
            "[49] \"Foundation\"                \"Geocode Quality\"          \n",
            "[51] \"GST Incl\"                  \"How Sold\"                 \n",
            "[53] \"Jurisdiction\"              \"Listing Entered By\"       \n",
            "[55] \"Measurement Type\"          \"MHR#\"                     \n",
            "[57] \"No Buyer Agency\"           \"Owner Name\"               \n",
            "[59] \"PAD Rental\"                \"Privacy Flag\"             \n",
            "[61] \"Prop Disclosure Statement\" \"Prop Type\"                \n",
            "[63] \"Rain Screen\"               \"Region\"                   \n",
            "[65] \"Restricted Age\"            \"Registered\"               \n",
            "[67] \"Storeys in Building\"       \"Tax ID\"                   \n",
            "[69] \"Tax Utilities Incl\"        \"View - Specify\"           \n",
            "[71] \"View\"                     \n"
          ],
          "name": "stdout"
        }
      ]
    },
    {
      "cell_type": "markdown",
      "metadata": {
        "id": "ilf6QxoIihZQ"
      },
      "source": [
        "### 2.1.1 create city column with acronym"
      ]
    },
    {
      "cell_type": "code",
      "metadata": {
        "id": "EWFxJfkbL2pX"
      },
      "source": [
        "%%R\n",
        "#str(a_imported)\n",
        "table(a_imported$Distance.Pub)\n",
        "\n",
        "a_imported_0 <- a_imported %>% mutate(SaletoAcrive_YM=paste(year(List.Date ), month(List.Date), sep='')) %>%  rename( AskingPrice='ListPrice' ) %>%\n",
        "  rename( SalePrice='Price' )    \n",
        "\n",
        "a_imported_0 <- a_imported_0 %>% mutate(HPI_YM=paste(year(List.Date ), month(List.Date), sep='')) %>% filter(Tax>0) %>% \n",
        "  mutate(city=if_else(City=='Port Coquitlam','VPQ','VCQ'))"
      ],
      "execution_count": 58,
      "outputs": []
    },
    {
      "cell_type": "markdown",
      "metadata": {
        "id": "3AzxBFSZMEXz"
      },
      "source": [
        "## 2.2  clean sale and HPI indicators  \n"
      ]
    },
    {
      "cell_type": "code",
      "metadata": {
        "colab": {
          "base_uri": "https://localhost:8080/"
        },
        "id": "VQtDP8ZiMCQG",
        "outputId": "1c0d5cb7-3228-417f-fbcf-4c7bdd29c59a"
      },
      "source": [
        "%%R\n",
        "# for now I just have the coquitlam's records , I assume the indicators in both coquitlam and POCO changed in the same direction\n",
        "\n",
        "SaletoAcrive<-read.csv('SaleToActive.csv' )\n",
        "HPI<-read.csv('HPI.csv' )\n",
        " \n",
        "SaletoAcrive$Date<-as.Date( SaletoAcrive$Date)\n",
        "HPI$Date<-as.Date(HPI$Date)\n",
        "#str(SaletoAcrive)\n",
        "#str(HPI)\n",
        "# each indicator is a predictive variable for the next month not the same one:\n",
        "\n",
        "SaletoAcrive<-SaletoAcrive %>% mutate(SaletoAcrive_YM=paste(year(Date %m+% months(1)), month(Date %m+% months(1)), sep='') )\n",
        "\n",
        "HPI<-HPI %>% mutate(HPI_YM=paste(year(Date %m+% months(1)), month(Date %m+% months(1)), sep=''))\n",
        "\n",
        "#Left join main data sets to the indicator tables:\n",
        "#str(a_imported)\n",
        "a_imported_1<-left_join (a_imported_0,SaletoAcrive, by=c('city','SaletoAcrive_YM')) %>% dplyr::select(-Date)\n",
        "a_imported_2<-left_join (a_imported_1,HPI,    by=c('city','HPI_YM'))\n",
        "\n",
        "\n",
        "\n",
        "db<-rbind.data.frame(a_imported_2 )\n",
        "\n",
        "\n",
        "db<-db %>% filter(TypeDwel=='HOUSE' )\n",
        "\n",
        "db$Lot <- as.numeric(gsub('\\\\$|,', '', db$Lot))\n",
        "db$TotFlArea <- as.numeric(gsub('\\\\$|,', '', db$TotFlArea))\n",
        "db$S.A<-as.factor(db$S.A)\n",
        "table(db$S.A)\n",
        "#str(db)\n",
        "\n",
        "db$month <- month(db$List.Date)\n",
        "db$year <- year(db$List.Date)\n",
        "\n",
        "\n",
        "db<-db %>% mutate(reno=ifelse(is.na(Approx.Yr.of.Renos.Addns),\n",
        "                              0,ifelse(Approx.Yr.of.Renos.Addns>2016,3,ifelse(Approx.Yr.of.Renos.Addns<=2016 &Approx.Yr.of.Renos.Addns>2010 ,2,1)) ))\n",
        "table(db$reno)\n",
        "\n",
        "\n",
        "#str(db) \n",
        "\n",
        "db<-db %>% select(ML,SalePrice,AskingPrice,Tot.BR,Tot.Baths, Age,Kitchens,TotFlArea,Lot,S.A,month,year, reno,List.Date,SaleToActive ,HPI,Tax)\n",
        "#str(db)\n",
        "\n",
        "\n",
        "names(db)"
      ],
      "execution_count": 59,
      "outputs": [
        {
          "output_type": "stream",
          "text": [
            " [1] \"ML\"           \"SalePrice\"    \"AskingPrice\"  \"Tot.BR\"       \"Tot.Baths\"   \n",
            " [6] \"Age\"          \"Kitchens\"     \"TotFlArea\"    \"Lot\"          \"S.A\"         \n",
            "[11] \"month\"        \"year\"         \"reno\"         \"List.Date\"    \"SaleToActive\"\n",
            "[16] \"HPI\"          \"Tax\"         \n"
          ],
          "name": "stdout"
        }
      ]
    },
    {
      "cell_type": "code",
      "metadata": {
        "colab": {
          "base_uri": "https://localhost:8080/"
        },
        "id": "LQMB632jMx-3",
        "outputId": "28cd18f9-6d24-4ce2-f391-985730d84ee3"
      },
      "source": [
        "%%R\n",
        "head(db)"
      ],
      "execution_count": 60,
      "outputs": [
        {
          "output_type": "stream",
          "text": [
            "# A tibble: 6 x 17\n",
            "  ML       SalePrice AskingPrice Tot.BR Tot.Baths   Age Kitchens TotFlArea   Lot\n",
            "  <chr>        <dbl>       <dbl>  <dbl>     <dbl> <dbl>    <dbl>     <dbl> <dbl>\n",
            "1 R2568777    660000      680000      3         0    69        1      1233  4026\n",
            "2 R2545292    725000      749900      2         1   107        1      1759  4197\n",
            "3 R2541391    780300      738000      4         3    46        2      1535  3000\n",
            "4 R2563286    800000      809900      3         2    46        1      1343  3000\n",
            "5 R2541325    800000      750000      3         2    45        1      1254  3000\n",
            "6 R2533252    810000      799988      2         1    65        1       751  4039\n",
            "# … with 8 more variables: S.A <fct>, month <dbl>, year <dbl>, reno <dbl>,\n",
            "#   List.Date <dttm>, SaleToActive <dbl>, HPI <int>, Tax <dbl>\n"
          ],
          "name": "stdout"
        }
      ]
    },
    {
      "cell_type": "markdown",
      "metadata": {
        "id": "bWq2Ez1Ki_II"
      },
      "source": [
        "## 2.3 apply the cooks distance to remove high leverage points  \n"
      ]
    },
    {
      "cell_type": "code",
      "metadata": {
        "colab": {
          "base_uri": "https://localhost:8080/"
        },
        "id": "FNRq7QI5jLmA",
        "outputId": "070917e5-7a3d-4f34-839a-31b6fa218474"
      },
      "source": [
        "%%R\n",
        "db_fit<-glm(SalePrice~AskingPrice  ,\n",
        "                  family = gaussian(link = \"identity\"),\n",
        "                  data=db)\n",
        "High_leverage<-db[cooks.distance(db_fit)>1,]\n",
        "High_leverage\n",
        "\n"
      ],
      "execution_count": 61,
      "outputs": [
        {
          "output_type": "stream",
          "text": [
            "# A tibble: 1 x 17\n",
            "  ML       SalePrice AskingPrice Tot.BR Tot.Baths   Age Kitchens TotFlArea   Lot\n",
            "  <chr>        <dbl>       <dbl>  <dbl>     <dbl> <dbl>    <dbl>     <dbl> <dbl>\n",
            "1 R2527268   3700000     4700000      2         1    74        1      2100 46217\n",
            "# … with 8 more variables: S.A <fct>, month <dbl>, year <dbl>, reno <dbl>,\n",
            "#   List.Date <dttm>, SaleToActive <dbl>, HPI <int>, Tax <dbl>\n"
          ],
          "name": "stdout"
        }
      ]
    },
    {
      "cell_type": "markdown",
      "metadata": {
        "id": "H8GIaoE-nhFC"
      },
      "source": [
        "###2.3.1 Exclude cases with huge abnormality in asking and sale price"
      ]
    },
    {
      "cell_type": "code",
      "metadata": {
        "id": "5vXreh-hjmJe"
      },
      "source": [
        "%%R\n",
        "db<-db[cooks.distance(db_fit)<=1,]\n"
      ],
      "execution_count": 62,
      "outputs": []
    },
    {
      "cell_type": "code",
      "metadata": {
        "colab": {
          "base_uri": "https://localhost:8080/"
        },
        "id": "vFnPHKQgnxD1",
        "outputId": "f1fe2b77-7110-4dff-f061-393b90486805"
      },
      "source": [
        "%%R\n",
        "dim(db)"
      ],
      "execution_count": 48,
      "outputs": [
        {
          "output_type": "stream",
          "text": [
            "[1] 956  17\n"
          ],
          "name": "stdout"
        }
      ]
    },
    {
      "cell_type": "markdown",
      "metadata": {
        "id": "-RScEUZ7n-hK"
      },
      "source": [
        "## 2.4 exclude the outlires"
      ]
    },
    {
      "cell_type": "markdown",
      "metadata": {
        "id": "TYUsZH6voQ5R"
      },
      "source": [
        "### 2.4.1 Price per bedroom"
      ]
    },
    {
      "cell_type": "code",
      "metadata": {
        "colab": {
          "base_uri": "https://localhost:8080/",
          "height": 497
        },
        "id": "pG-jotwUn0FQ",
        "outputId": "cc8f2b01-c198-4094-8665-da6a67f7ece8"
      },
      "source": [
        "%%R\n",
        "ggplot(data=db,aes(x=as.factor(Tot.BR),y=SalePrice))+geom_boxplot()"
      ],
      "execution_count": 63,
      "outputs": [
        {
          "output_type": "display_data",
          "data": {
            "image/png": "[encoded data removed]"
          },
          "metadata": {
            "tags": []
          }
        }
      ]
    },
    {
      "cell_type": "code",
      "metadata": {
        "id": "5yqRzu-VoZBM"
      },
      "source": [
        "%%R\n",
        "db<-db[db$Tot.BR<11,]\n",
        "db<-db[db$Tot.BR>1,]"
      ],
      "execution_count": 89,
      "outputs": []
    },
    {
      "cell_type": "markdown",
      "metadata": {
        "id": "MgkOWIQIojaf"
      },
      "source": [
        "### 2.4.2 Price per lot per building age"
      ]
    },
    {
      "cell_type": "code",
      "metadata": {
        "colab": {
          "base_uri": "https://localhost:8080/",
          "height": 497
        },
        "id": "TmBmzoegojtb",
        "outputId": "13159af1-299c-44ea-d266-512bb63be755"
      },
      "source": [
        "%%R\n",
        "db<-db %>% mutate(Agegroup=ifelse(Age <15 ,1,ifelse(Age<40,2,3)))\n",
        "table(db$Agegroup)\n",
        "ggplot(data=db,aes(x=Lot,y=SalePrice))+geom_point(aes(colour=as.factor(Agegroup)))"
      ],
      "execution_count": 90,
      "outputs": [
        {
          "output_type": "display_data",
          "data": {
            "image/png": "[encoded data removed]"
          },
          "metadata": {
            "tags": []
          }
        }
      ]
    },
    {
      "cell_type": "code",
      "metadata": {
        "id": "ivqHKdHisI4g"
      },
      "source": [
        "%%R\n",
        "db<-db[db$Lot<20000,]\n",
        "db<-db[db$Lot>1000,]\n"
      ],
      "execution_count": 91,
      "outputs": []
    },
    {
      "cell_type": "code",
      "metadata": {
        "id": "T1iuu-oqsLDl"
      },
      "source": [
        "%%R\n",
        "db<-db[db$SalePrice<3000000,]"
      ],
      "execution_count": 93,
      "outputs": []
    },
    {
      "cell_type": "markdown",
      "metadata": {
        "id": "L9jU03oJtHR0"
      },
      "source": [
        "### 2.4.3 After cleaning SalePrice and Lot size"
      ]
    },
    {
      "cell_type": "code",
      "metadata": {
        "colab": {
          "base_uri": "https://localhost:8080/",
          "height": 497
        },
        "id": "pD7P4o8PtFrL",
        "outputId": "341e0810-d16e-43dd-c9ca-d8d8e3f147bd"
      },
      "source": [
        "%%R\n",
        "ggplot(data=db,aes(x=Lot,y=SalePrice))+geom_point(aes(colour=as.factor(Agegroup)))"
      ],
      "execution_count": 94,
      "outputs": [
        {
          "output_type": "display_data",
          "data": {
            "image/png": "[encoded data removed]"
          },
          "metadata": {
            "tags": []
          }
        }
      ]
    },
    {
      "cell_type": "code",
      "metadata": {
        "colab": {
          "base_uri": "https://localhost:8080/",
          "height": 531
        },
        "id": "STm2_kWpt7m_",
        "outputId": "1d2ff27e-9d6b-4705-c3b6-e695f4fbecfa"
      },
      "source": [
        "%%R\n",
        "ggplot(data=db,aes(x=Age))+geom_histogram()"
      ],
      "execution_count": 95,
      "outputs": [
        {
          "output_type": "stream",
          "text": [
            "R[write to console]: `stat_bin()` using `bins = 30`. Pick better value with `binwidth`.\n",
            "\n"
          ],
          "name": "stderr"
        },
        {
          "output_type": "display_data",
          "data": {
            "image/png": "[encoded data removed]"
          },
          "metadata": {
            "tags": []
          }
        }
      ]
    },
    {
      "cell_type": "code",
      "metadata": {
        "id": "SxokIu91uZdX"
      },
      "source": [
        "%%R\n",
        "db<-db[db$Age<100,]"
      ],
      "execution_count": 96,
      "outputs": []
    },
    {
      "cell_type": "markdown",
      "metadata": {
        "id": "yku8mq3muvya"
      },
      "source": [
        "## 3.1 Create training and Testing Sets\n"
      ]
    },
    {
      "cell_type": "code",
      "metadata": {
        "id": "V6gk_Dk_u6PV"
      },
      "source": [
        "%%R\n",
        "training<-db %>% filter(List.Date<='2021-04-30')   \n",
        "testing<-db %>% filter( List.Date>'2021-04-30' )"
      ],
      "execution_count": 97,
      "outputs": []
    },
    {
      "cell_type": "code",
      "metadata": {
        "id": "xFqs0IvBvCCC"
      },
      "source": [
        "%%R\n",
        "\n",
        "training <- training %>% dplyr::select(ML,AskingPrice ,SalePrice,Tot.BR,Tot.Baths, Age,Kitchens,TotFlArea,Lot,S.A,Tax , reno,List.Date,SaleToActive ,HPI)\n",
        "testing <-  testing  %>% dplyr::select(ML,AskingPrice ,SalePrice,Tot.BR,Tot.Baths, Age,Kitchens,TotFlArea,Lot,S.A,Tax , reno,List.Date,SaleToActive ,HPI)\n"
      ],
      "execution_count": 98,
      "outputs": []
    },
    {
      "cell_type": "code",
      "metadata": {
        "colab": {
          "base_uri": "https://localhost:8080/"
        },
        "id": "LSrF5c4y2vuL",
        "outputId": "9af390cc-1579-4fe5-94a3-20ff6e0cc31d"
      },
      "source": [
        "%%R\n",
        "table(training$S.A)"
      ],
      "execution_count": 114,
      "outputs": [
        {
          "output_type": "stream",
          "text": [
            "\n",
            "VCQBM VCQCC VCQCE VCQCH VCQCS VCQCW VCQCY VCQER VCQHC VCQHO VCQHP VCQMB VCQML \n",
            "   68    93    42    14    13    58    10     6     9     9    17    11    32 \n",
            "VCQNH VCQRP VCQRS VCQSC VCQSV VCQUE VCQWP VCQWS VPQBL VPQCE VPQCI VPQGL VPQLM \n",
            "   21    46     1    14     2     8    74     2    12    20    35    46    19 \n",
            "VPQLP VPQMH VPQOH VPQRD VPQWA \n",
            "   37    34    22    27    15 \n"
          ],
          "name": "stdout"
        }
      ]
    },
    {
      "cell_type": "code",
      "metadata": {
        "colab": {
          "base_uri": "https://localhost:8080/"
        },
        "id": "VwtVmsGh25A7",
        "outputId": "5fb519ad-5272-435d-a7bd-be4664b75bd9"
      },
      "source": [
        "%%R\n",
        "table(testing$S.A)"
      ],
      "execution_count": 115,
      "outputs": [
        {
          "output_type": "stream",
          "text": [
            "\n",
            "VCQBM VCQCC VCQCE VCQCH VCQCS VCQCW VCQCY VCQER VCQHC VCQHO VCQHP VCQMB VCQML \n",
            "    8    17     6     4     1     5     1     0     1     2     3     2     1 \n",
            "VCQNH VCQRP VCQRS VCQSC VCQSV VCQUE VCQWP VCQWS VPQBL VPQCE VPQCI VPQGL VPQLM \n",
            "    5     8     0     1     1     1     7     1     1     1     0     7     1 \n",
            "VPQLP VPQMH VPQOH VPQRD VPQWA \n",
            "    3     3     9     2     3 \n"
          ],
          "name": "stdout"
        }
      ]
    },
    {
      "cell_type": "code",
      "metadata": {
        "id": "pa3VhJUT2xrP"
      },
      "source": [
        "%%R\n",
        "testing<- testing[testing['S.A']!='VCQRS' &testing['S.A']!='VCQSV' , ]"
      ],
      "execution_count": 119,
      "outputs": []
    },
    {
      "cell_type": "markdown",
      "metadata": {
        "id": "Srg-jOeTvX2s"
      },
      "source": [
        "### 3.1.1 Scaling training and testing sets"
      ]
    },
    {
      "cell_type": "code",
      "metadata": {
        "id": "S8Tv_Id4vVcH"
      },
      "source": [
        "%%R\n",
        "set.seed(96)\n",
        "preProcValues <- preProcess(training[c('Age','TotFlArea' ,'Lot' , 'SaleToActive','Tax')], method = c(\"center\", \"scale\"))\n",
        " \n",
        "trainTransformed <- predict(preProcValues, training)\n",
        "testTransformed <- predict(preProcValues, testing)"
      ],
      "execution_count": 120,
      "outputs": []
    },
    {
      "cell_type": "markdown",
      "metadata": {
        "id": "GF-LWOUWv5Qq"
      },
      "source": [
        "# 4  Statistical models"
      ]
    },
    {
      "cell_type": "markdown",
      "metadata": {
        "id": "vncNk-R0wRq9"
      },
      "source": [
        "# 4.1 GLM normal distribution ( simple model without geographical variable)"
      ]
    },
    {
      "cell_type": "code",
      "metadata": {
        "colab": {
          "base_uri": "https://localhost:8080/"
        },
        "id": "HIE_LakGwEs2",
        "outputId": "9b471237-1743-4c56-f05d-0c19bbfc6a42"
      },
      "source": [
        "%%R\n",
        "\n",
        "simple_Normal<-glm(SalePrice~ AskingPrice+Tot.BR+Tot.Baths+ Age+Kitchens+TotFlArea+ Lot+ reno +Tax+HPI+SaleToActive,\n",
        "                  family =  gaussian(link = \"identity\"),\n",
        "                  data=training)\n",
        "summary(simple_Normal)"
      ],
      "execution_count": 121,
      "outputs": [
        {
          "output_type": "stream",
          "text": [
            "\n",
            "Call:\n",
            "glm(formula = SalePrice ~ AskingPrice + Tot.BR + Tot.Baths + \n",
            "    Age + Kitchens + TotFlArea + Lot + reno + Tax + HPI + SaleToActive, \n",
            "    family = gaussian(link = \"identity\"), data = training)\n",
            "\n",
            "Deviance Residuals: \n",
            "     Min        1Q    Median        3Q       Max  \n",
            "-1215990    -64992    -11827     59599    446562  \n",
            "\n",
            "Coefficients:\n",
            "               Estimate Std. Error t value Pr(>|t|)    \n",
            "(Intercept)  -2.542e+03  5.173e+04  -0.049 0.960823    \n",
            "AskingPrice   7.950e-01  1.953e-02  40.695  < 2e-16 ***\n",
            "Tot.BR       -4.645e+03  4.226e+03  -1.099 0.271999    \n",
            "Tot.Baths     4.236e+03  5.363e+03   0.790 0.429881    \n",
            "Age          -1.099e+02  3.074e+02  -0.357 0.720902    \n",
            "Kitchens      5.344e+03  6.808e+03   0.785 0.432698    \n",
            "TotFlArea     1.474e+01  7.450e+00   1.979 0.048184 *  \n",
            "Lot           2.623e+00  1.993e+00   1.316 0.188519    \n",
            "reno          8.798e+03  3.255e+03   2.703 0.007019 ** \n",
            "Tax           2.248e+01  5.481e+00   4.101 4.53e-05 ***\n",
            "HPI           1.111e-01  3.255e-02   3.412 0.000676 ***\n",
            "SaleToActive  7.096e+04  2.767e+04   2.564 0.010519 *  \n",
            "---\n",
            "Signif. codes:  0 ‘***’ 0.001 ‘**’ 0.01 ‘*’ 0.05 ‘.’ 0.1 ‘ ’ 1\n",
            "\n",
            "(Dispersion parameter for gaussian family taken to be 10156882430)\n",
            "\n",
            "    Null deviance: 1.0667e+14  on 816  degrees of freedom\n",
            "Residual deviance: 8.1763e+12  on 805  degrees of freedom\n",
            "AIC: 21157\n",
            "\n",
            "Number of Fisher Scoring iterations: 2\n",
            "\n"
          ],
          "name": "stdout"
        }
      ]
    },
    {
      "cell_type": "markdown",
      "metadata": {
        "id": "LEdhtqhIwE8G"
      },
      "source": [
        "### 4.1.1 Simple Regression ,Bedroom exploration"
      ]
    },
    {
      "cell_type": "code",
      "metadata": {
        "colab": {
          "base_uri": "https://localhost:8080/"
        },
        "id": "QmHStpP817Mz",
        "outputId": "0116cd90-7889-433d-f56e-e46659834adb"
      },
      "source": [
        "%%R\n",
        "Bedroom_simple<-glm(SalePrice~ Tot.BR,\n",
        "                  family =  gaussian(link = \"identity\"),\n",
        "                  data=training)\n",
        "summary(Bedroom_simple)"
      ],
      "execution_count": 122,
      "outputs": [
        {
          "output_type": "stream",
          "text": [
            "\n",
            "Call:\n",
            "glm(formula = SalePrice ~ Tot.BR, family = gaussian(link = \"identity\"), \n",
            "    data = training)\n",
            "\n",
            "Deviance Residuals: \n",
            "    Min       1Q   Median       3Q      Max  \n",
            "-703559  -197751   -30737   154087  1467087  \n",
            "\n",
            "Coefficients:\n",
            "            Estimate Std. Error t value Pr(>|t|)    \n",
            "(Intercept)   786106      35190   22.34   <2e-16 ***\n",
            "Tot.BR        149162       7033   21.21   <2e-16 ***\n",
            "---\n",
            "Signif. codes:  0 ‘***’ 0.001 ‘**’ 0.01 ‘*’ 0.05 ‘.’ 0.1 ‘ ’ 1\n",
            "\n",
            "(Dispersion parameter for gaussian family taken to be 84336813605)\n",
            "\n",
            "    Null deviance: 1.0667e+14  on 816  degrees of freedom\n",
            "Residual deviance: 6.8735e+13  on 815  degrees of freedom\n",
            "AIC: 22877\n",
            "\n",
            "Number of Fisher Scoring iterations: 2\n",
            "\n"
          ],
          "name": "stdout"
        }
      ]
    },
    {
      "cell_type": "markdown",
      "metadata": {
        "id": "sovujGKc18o4"
      },
      "source": [
        "### 4.1.2 Simple regression shows there is association between bedroom and sale price while the multiple regression there is negative association, It means that owners overestimated the bedroom effect on thier price calculation given other variables"
      ]
    },
    {
      "cell_type": "code",
      "metadata": {
        "colab": {
          "base_uri": "https://localhost:8080/"
        },
        "id": "n9UDdydiv4aP",
        "outputId": "9c78b558-019b-4f1a-ef2f-b7c2e9ac71c0"
      },
      "source": [
        "%%R\n",
        "Bedroom_simple_Asking<-glm(SalePrice~ AskingPrice+Tot.BR+Tot.Baths,\n",
        "                  family =  gaussian(link = \"identity\"),\n",
        "                  data=training)\n",
        "summary(Bedroom_simple_Asking)"
      ],
      "execution_count": 123,
      "outputs": [
        {
          "output_type": "stream",
          "text": [
            "\n",
            "Call:\n",
            "glm(formula = SalePrice ~ AskingPrice + Tot.BR + Tot.Baths, family = gaussian(link = \"identity\"), \n",
            "    data = training)\n",
            "\n",
            "Deviance Residuals: \n",
            "     Min        1Q    Median        3Q       Max  \n",
            "-1197981    -65802    -14318     64429    424946  \n",
            "\n",
            "Coefficients:\n",
            "              Estimate Std. Error t value Pr(>|t|)    \n",
            "(Intercept)  2.017e+05  1.565e+04  12.889   <2e-16 ***\n",
            "AskingPrice  8.744e-01  1.389e-02  62.942   <2e-16 ***\n",
            "Tot.BR      -7.625e+01  3.723e+03  -0.020   0.9837    \n",
            "Tot.Baths    8.852e+03  4.247e+03   2.084   0.0375 *  \n",
            "---\n",
            "Signif. codes:  0 ‘***’ 0.001 ‘**’ 0.01 ‘*’ 0.05 ‘.’ 0.1 ‘ ’ 1\n",
            "\n",
            "(Dispersion parameter for gaussian family taken to be 10731548128)\n",
            "\n",
            "    Null deviance: 1.0667e+14  on 816  degrees of freedom\n",
            "Residual deviance: 8.7247e+12  on 813  degrees of freedom\n",
            "AIC: 21194\n",
            "\n",
            "Number of Fisher Scoring iterations: 2\n",
            "\n"
          ],
          "name": "stdout"
        }
      ]
    },
    {
      "cell_type": "markdown",
      "metadata": {
        "id": "4iCpx6lh2aho"
      },
      "source": [
        "### 4.1.3 Simple regression ,R squared for "
      ]
    },
    {
      "cell_type": "code",
      "metadata": {
        "colab": {
          "base_uri": "https://localhost:8080/"
        },
        "id": "mBYP9VzRzFQg",
        "outputId": "3c0e4dc7-8b3d-4bae-86d4-fb276917b416"
      },
      "source": [
        "%%R\n",
        "with(summary(simple_Normal), 1 - deviance/null.deviance)"
      ],
      "execution_count": 124,
      "outputs": [
        {
          "output_type": "stream",
          "text": [
            "[1] 0.9233525\n"
          ],
          "name": "stdout"
        }
      ]
    },
    {
      "cell_type": "markdown",
      "metadata": {
        "id": "czN6mVJY3Q8O"
      },
      "source": [
        "### 4.1.4 Simple Regression,Prediction for SalePrice"
      ]
    },
    {
      "cell_type": "code",
      "metadata": {
        "id": "cfIJmeaI2f4R"
      },
      "source": [
        "%%R\n",
        "P_simple_normal<-as.vector(predict(simple_Normal, newdata =testing, type=\"response\"))"
      ],
      "execution_count": 148,
      "outputs": []
    },
    {
      "cell_type": "code",
      "metadata": {
        "colab": {
          "base_uri": "https://localhost:8080/",
          "height": 565
        },
        "id": "Rt4lYUjT4hAD",
        "outputId": "44f22bd2-c5b4-498d-803d-22bf4c59fd2d"
      },
      "source": [
        "%%R\n",
        "plot1<-ggplot(data=testing,aes(x=SalePrice))+geom_histogram()\n",
        "plot2<-ggplot(data=data.frame(P_simple_normal=P_simple_normal),aes(x=P_simple_normal))+geom_histogram()\n",
        "grid.arrange(plot1, plot2, ncol=2)"
      ],
      "execution_count": 142,
      "outputs": [
        {
          "output_type": "stream",
          "text": [
            "R[write to console]: `stat_bin()` using `bins = 30`. Pick better value with `binwidth`.\n",
            "\n",
            "R[write to console]: `stat_bin()` using `bins = 30`. Pick better value with `binwidth`.\n",
            "\n"
          ],
          "name": "stderr"
        },
        {
          "output_type": "display_data",
          "data": {
            "image/png": "[encoded data removed]"
          },
          "metadata": {
            "tags": []
          }
        }
      ]
    },
    {
      "cell_type": "markdown",
      "metadata": {
        "id": "9IrdMe4d685j"
      },
      "source": [
        "### 4.1.5 Simple Regression,Calibration plot"
      ]
    },
    {
      "cell_type": "code",
      "metadata": {
        "colab": {
          "base_uri": "https://localhost:8080/",
          "height": 497
        },
        "id": "PjqRo3Wu69gz",
        "outputId": "77196df5-6628-49ba-912e-8b79d193e473"
      },
      "source": [
        "%%R\n",
        "caliberPlot(testing$SalePrice, P_simple_normal) "
      ],
      "execution_count": 147,
      "outputs": [
        {
          "output_type": "display_data",
          "data": {
            "image/png": "[encoded data removed]"
          },
          "metadata": {
            "tags": []
          }
        }
      ]
    },
    {
      "cell_type": "markdown",
      "metadata": {
        "id": "_piMSHpc8lsx"
      },
      "source": [
        "# 4.2 GLM Gamma distribution"
      ]
    },
    {
      "cell_type": "code",
      "metadata": {
        "colab": {
          "base_uri": "https://localhost:8080/"
        },
        "id": "3zaFV-FY8lRT",
        "outputId": "904bf525-7e57-4806-8ac5-a4dc00673d47"
      },
      "source": [
        "%%R\n",
        "\n",
        "simple_Gamma<-glm(SalePrice~ AskingPrice+Tot.BR+Tot.Baths+ Age+Kitchens+TotFlArea+ Lot+ reno +Tax+HPI+SaleToActive+Lot*Age+Tot.BR*Tot.Baths,\n",
        "                  family =  Gamma(link = \"log\"),\n",
        "                  data=training)\n",
        "summary(simple_Gamma)"
      ],
      "execution_count": 158,
      "outputs": [
        {
          "output_type": "stream",
          "text": [
            "\n",
            "Call:\n",
            "glm(formula = SalePrice ~ AskingPrice + Tot.BR + Tot.Baths + \n",
            "    Age + Kitchens + TotFlArea + Lot + reno + Tax + HPI + SaleToActive + \n",
            "    Lot * Age + Tot.BR * Tot.Baths, family = Gamma(link = \"log\"), \n",
            "    data = training)\n",
            "\n",
            "Deviance Residuals: \n",
            "     Min        1Q    Median        3Q       Max  \n",
            "-0.52755  -0.04363  -0.00645   0.04177   0.22584  \n",
            "\n",
            "Coefficients:\n",
            "                   Estimate Std. Error t value Pr(>|t|)    \n",
            "(Intercept)       1.317e+01  4.325e-02 304.497  < 2e-16 ***\n",
            "AskingPrice       4.759e-07  1.368e-08  34.776  < 2e-16 ***\n",
            "Tot.BR            2.644e-02  4.617e-03   5.727 1.44e-08 ***\n",
            "Tot.Baths         4.867e-02  7.084e-03   6.869 1.29e-11 ***\n",
            "Age              -2.948e-03  4.466e-04  -6.600 7.45e-11 ***\n",
            "Kitchens         -1.116e-03  4.729e-03  -0.236 0.813525    \n",
            "TotFlArea         1.107e-05  5.303e-06   2.087 0.037159 *  \n",
            "Lot              -1.240e-05  2.650e-06  -4.681 3.35e-06 ***\n",
            "reno              6.746e-03  2.292e-03   2.943 0.003343 ** \n",
            "Tax               1.948e-05  3.839e-06   5.074 4.83e-07 ***\n",
            "HPI               8.579e-08  2.319e-08   3.700 0.000231 ***\n",
            "SaleToActive      3.246e-02  1.918e-02   1.692 0.091017 .  \n",
            "Age:Lot           4.328e-07  5.859e-08   7.387 3.77e-13 ***\n",
            "Tot.BR:Tot.Baths -7.380e-03  9.529e-04  -7.745 2.88e-14 ***\n",
            "---\n",
            "Signif. codes:  0 ‘***’ 0.001 ‘**’ 0.01 ‘*’ 0.05 ‘.’ 0.1 ‘ ’ 1\n",
            "\n",
            "(Dispersion parameter for Gamma family taken to be 0.004876241)\n",
            "\n",
            "    Null deviance: 43.8728  on 816  degrees of freedom\n",
            "Residual deviance:  3.9826  on 803  degrees of freedom\n",
            "AIC: 21194\n",
            "\n",
            "Number of Fisher Scoring iterations: 4\n",
            "\n"
          ],
          "name": "stdout"
        }
      ]
    },
    {
      "cell_type": "markdown",
      "metadata": {
        "id": "b5hwlgbd9B7R"
      },
      "source": [
        "## 4.2.1 Simple Gamma ,R Sqared"
      ]
    },
    {
      "cell_type": "code",
      "metadata": {
        "colab": {
          "base_uri": "https://localhost:8080/"
        },
        "id": "dZ7zrGTr9BOh",
        "outputId": "bfa44633-0ec2-4b3b-fcbb-e6d024694865"
      },
      "source": [
        "%%R\n",
        "with(summary(simple_Gamma), 1 - deviance/null.deviance)"
      ],
      "execution_count": 154,
      "outputs": [
        {
          "output_type": "stream",
          "text": [
            "[1] 0.9092244\n"
          ],
          "name": "stdout"
        }
      ]
    },
    {
      "cell_type": "markdown",
      "metadata": {
        "id": "rqVSFYpL9ZXx"
      },
      "source": [
        "4.2.2 Simple Gamma,Prediction for SalePrice"
      ]
    },
    {
      "cell_type": "code",
      "metadata": {
        "id": "6Mvuon3u9Zss"
      },
      "source": [
        "%%R\n",
        "P_simple_Gamma<-as.vector(predict(simple_Gamma, newdata =testing, type=\"response\"))"
      ],
      "execution_count": 155,
      "outputs": []
    },
    {
      "cell_type": "markdown",
      "metadata": {
        "id": "6WV1Ujli9pqQ"
      },
      "source": [
        "4.2.3 Simple Gamma  ,Calibration plot"
      ]
    },
    {
      "cell_type": "code",
      "metadata": {
        "colab": {
          "base_uri": "https://localhost:8080/",
          "height": 497
        },
        "id": "RB4JbHvF9kPA",
        "outputId": "a56b9eba-4de3-41c2-d718-a7774def54f0"
      },
      "source": [
        "%%R\n",
        "caliberPlot(testing$SalePrice, P_simple_Gamma) "
      ],
      "execution_count": 156,
      "outputs": [
        {
          "output_type": "display_data",
          "data": {
            "image/png": "[encoded data removed]"
          },
          "metadata": {
            "tags": []
          }
        }
      ]
    },
    {
      "cell_type": "markdown",
      "metadata": {
        "id": "v9mKJZY-96LP"
      },
      "source": [
        "# 4.3 GLM Normal distribution - with Zone (Complex method)"
      ]
    },
    {
      "cell_type": "code",
      "metadata": {
        "id": "7hfTomzg-DAe"
      },
      "source": [
        "%%R\n",
        "\n",
        "complex_normal<-glm(SalePrice~ AskingPrice+Tot.BR+Tot.Baths+ Age+Kitchens+TotFlArea+ Lot+ reno +Tax+HPI+SaleToActive+Lot*Age+Tot.BR*Tot.Baths+S.A,\n",
        "                  family =  gaussian(link = \"identity\"),\n",
        "                  data=training)\n",
        "#summary(complex_normal)"
      ],
      "execution_count": 165,
      "outputs": []
    },
    {
      "cell_type": "markdown",
      "metadata": {
        "id": "WAMBlKJg-uso"
      },
      "source": [
        "### 4.3.1 complex normal ,R Sqared"
      ]
    },
    {
      "cell_type": "code",
      "metadata": {
        "colab": {
          "base_uri": "https://localhost:8080/"
        },
        "id": "NqFI6zak-dNY",
        "outputId": "4165fde6-8920-40f3-8f65-b9c762581365"
      },
      "source": [
        "%%R\n",
        "with(summary(complex_normal), 1 - deviance/null.deviance)"
      ],
      "execution_count": 167,
      "outputs": [
        {
          "output_type": "stream",
          "text": [
            "[1] 0.9289667\n"
          ],
          "name": "stdout"
        }
      ]
    },
    {
      "cell_type": "markdown",
      "metadata": {
        "id": "LjIGBBA0-vNU"
      },
      "source": [
        "### 4.3.2 complex normal,Prediction for SalePrice"
      ]
    },
    {
      "cell_type": "code",
      "metadata": {
        "id": "4eIKBnZi-t6X"
      },
      "source": [
        "%%R\n",
        "P_complex_normal<-as.vector(predict(complex_normal, newdata =testing, type=\"response\"))"
      ],
      "execution_count": 168,
      "outputs": []
    },
    {
      "cell_type": "markdown",
      "metadata": {
        "id": "p_n0nVOi_UxK"
      },
      "source": [
        "### 4.3.3 complex normal ,Calibration plot"
      ]
    },
    {
      "cell_type": "code",
      "metadata": {
        "colab": {
          "base_uri": "https://localhost:8080/",
          "height": 497
        },
        "id": "HZFHtOpd_U64",
        "outputId": "6e74d514-9329-41dd-9d25-a45830773a6b"
      },
      "source": [
        "%%R\n",
        "caliberPlot(testing$SalePrice, P_complex_normal) "
      ],
      "execution_count": 169,
      "outputs": [
        {
          "output_type": "display_data",
          "data": {
            "image/png": "[encoded data removed]"
          },
          "metadata": {
            "tags": []
          }
        }
      ]
    },
    {
      "cell_type": "markdown",
      "metadata": {
        "id": "JzTsVUOPBeki"
      },
      "source": [
        "# 4.4 Mixed model"
      ]
    },
    {
      "cell_type": "code",
      "metadata": {
        "id": "dqOe9j0qBaAr"
      },
      "source": [
        "%%R\n",
        "fit.lmer <- lmer(SalePrice~ AskingPrice+ Tot.BR+Tot.Baths+ Age+Kitchens+TotFlArea+ Lot+ reno +(1| S.A)+ SaleToActive+Tax+Age*Tax+HPI+TotFlArea*Age,\n",
        "                 data=training)"
      ],
      "execution_count": 188,
      "outputs": []
    },
    {
      "cell_type": "markdown",
      "metadata": {
        "id": "Q1Db-7SICTCv"
      },
      "source": [
        "### 4.4.1  mixed model,Prediction for SalePrice"
      ]
    },
    {
      "cell_type": "code",
      "metadata": {
        "id": "mM-uhKvmCEAv"
      },
      "source": [
        "%%R\n",
        " \n",
        "P_mixed<-as.vector(predict(fit.lmer, newdata =testing, type=\"response\"))"
      ],
      "execution_count": 189,
      "outputs": []
    },
    {
      "cell_type": "markdown",
      "metadata": {
        "id": "2wHagECzCgX0"
      },
      "source": [
        "### 4.4.2 Mixed ,Calibration plot"
      ]
    },
    {
      "cell_type": "code",
      "metadata": {
        "colab": {
          "base_uri": "https://localhost:8080/",
          "height": 497
        },
        "id": "P4QtzWtsCfkG",
        "outputId": "6c48b1b1-bd92-4684-a6e0-46b79d4ea456"
      },
      "source": [
        "%%R\n",
        "caliberPlot(testing$SalePrice, P_mixed)"
      ],
      "execution_count": 190,
      "outputs": [
        {
          "output_type": "display_data",
          "data": {
            "image/png": "[encoded data removed]"
          },
          "metadata": {
            "tags": []
          }
        }
      ]
    },
    {
      "cell_type": "markdown",
      "metadata": {
        "id": "YaD0BYspE9am"
      },
      "source": [
        "## 4.4.3 Mixed ,R squared"
      ]
    },
    {
      "cell_type": "code",
      "metadata": {
        "colab": {
          "base_uri": "https://localhost:8080/"
        },
        "id": "KkcfvWh7Cr1k",
        "outputId": "ca8c64ac-ab42-4795-eaea-014111f65978"
      },
      "source": [
        "%%R\n",
        "tmp<-cbind.data.frame(training, pred=as.vector(predict(fit.lmer, newdata =training, type=\"response\")))\n",
        "yhat<-mean(tmp$SalePrice)\n",
        "tmp<-tmp %>% mutate(res2=(pred-SalePrice)^2) %>% mutate(tss2=(yhat-SalePrice)^2)\n",
        "#head(tmp)\n",
        "\n",
        "1-(sum(tmp$res2)/sum(tmp$tss2))"
      ],
      "execution_count": 191,
      "outputs": [
        {
          "output_type": "stream",
          "text": [
            "[1] 0.9270478\n"
          ],
          "name": "stdout"
        }
      ]
    },
    {
      "cell_type": "markdown",
      "metadata": {
        "id": "TNIThznhGPA3"
      },
      "source": [
        "# 5. Output results"
      ]
    },
    {
      "cell_type": "code",
      "metadata": {
        "id": "IHtEPd5pGOUu"
      },
      "source": [
        "%%R\n",
        "test_output<-cbind.data.frame(ML=testing$ML, P_simple_normal=P_simple_normal ,P_simple_Gamma =P_simple_Gamma,P_complex_normal=P_complex_normal,P_mixed=P_mixed,\n",
        "                              AskingPrice=testing$AskingPrice, SalePrice=testing$SalePrice)\n",
        "\n",
        "write.csv(test_output,'test_output.csv')"
      ],
      "execution_count": 210,
      "outputs": []
    },
    {
      "cell_type": "code",
      "metadata": {
        "colab": {
          "base_uri": "https://localhost:8080/",
          "height": 419
        },
        "id": "h4Bb8KYCHMYs",
        "outputId": "4b2a00a3-bdd1-45b9-e12b-60520bbe397d"
      },
      "source": [
        "import pandas as pd\n",
        "df=pd.read_csv('test_output.csv')\n",
        "\n",
        "df.round()"
      ],
      "execution_count": 211,
      "outputs": [
        {
          "output_type": "execute_result",
          "data": {
            "text/html": [
              "<div>\n",
              "<style scoped>\n",
              "    .dataframe tbody tr th:only-of-type {\n",
              "        vertical-align: middle;\n",
              "    }\n",
              "\n",
              "    .dataframe tbody tr th {\n",
              "        vertical-align: top;\n",
              "    }\n",
              "\n",
              "    .dataframe thead th {\n",
              "        text-align: right;\n",
              "    }\n",
              "</style>\n",
              "<table border=\"1\" class=\"dataframe\">\n",
              "  <thead>\n",
              "    <tr style=\"text-align: right;\">\n",
              "      <th></th>\n",
              "      <th>Unnamed: 0</th>\n",
              "      <th>ML</th>\n",
              "      <th>P_simple_normal</th>\n",
              "      <th>P_simple_Gamma</th>\n",
              "      <th>P_complex_normal</th>\n",
              "      <th>P_mixed</th>\n",
              "      <th>AskingPrice</th>\n",
              "      <th>SalePrice</th>\n",
              "    </tr>\n",
              "  </thead>\n",
              "  <tbody>\n",
              "    <tr>\n",
              "      <th>0</th>\n",
              "      <td>1</td>\n",
              "      <td>R2578053</td>\n",
              "      <td>983977.0</td>\n",
              "      <td>1009918.0</td>\n",
              "      <td>932870.0</td>\n",
              "      <td>943866.0</td>\n",
              "      <td>865000.0</td>\n",
              "      <td>920000</td>\n",
              "    </tr>\n",
              "    <tr>\n",
              "      <th>1</th>\n",
              "      <td>2</td>\n",
              "      <td>R2574782</td>\n",
              "      <td>1087540.0</td>\n",
              "      <td>1039784.0</td>\n",
              "      <td>1028613.0</td>\n",
              "      <td>1035292.0</td>\n",
              "      <td>999999.0</td>\n",
              "      <td>933000</td>\n",
              "    </tr>\n",
              "    <tr>\n",
              "      <th>2</th>\n",
              "      <td>3</td>\n",
              "      <td>R2583335</td>\n",
              "      <td>1060931.0</td>\n",
              "      <td>1113009.0</td>\n",
              "      <td>1103771.0</td>\n",
              "      <td>1055638.0</td>\n",
              "      <td>949889.0</td>\n",
              "      <td>962500</td>\n",
              "    </tr>\n",
              "    <tr>\n",
              "      <th>3</th>\n",
              "      <td>4</td>\n",
              "      <td>R2588413</td>\n",
              "      <td>1064912.0</td>\n",
              "      <td>1077523.0</td>\n",
              "      <td>1092846.0</td>\n",
              "      <td>1031308.0</td>\n",
              "      <td>988800.0</td>\n",
              "      <td>975000</td>\n",
              "    </tr>\n",
              "    <tr>\n",
              "      <th>4</th>\n",
              "      <td>5</td>\n",
              "      <td>R2576895</td>\n",
              "      <td>977498.0</td>\n",
              "      <td>1042248.0</td>\n",
              "      <td>1008318.0</td>\n",
              "      <td>971709.0</td>\n",
              "      <td>859900.0</td>\n",
              "      <td>979000</td>\n",
              "    </tr>\n",
              "    <tr>\n",
              "      <th>...</th>\n",
              "      <td>...</td>\n",
              "      <td>...</td>\n",
              "      <td>...</td>\n",
              "      <td>...</td>\n",
              "      <td>...</td>\n",
              "      <td>...</td>\n",
              "      <td>...</td>\n",
              "      <td>...</td>\n",
              "    </tr>\n",
              "    <tr>\n",
              "      <th>99</th>\n",
              "      <td>100</td>\n",
              "      <td>R2583500</td>\n",
              "      <td>2013630.0</td>\n",
              "      <td>2004242.0</td>\n",
              "      <td>2035202.0</td>\n",
              "      <td>1998167.0</td>\n",
              "      <td>2000000.0</td>\n",
              "      <td>1955000</td>\n",
              "    </tr>\n",
              "    <tr>\n",
              "      <th>100</th>\n",
              "      <td>101</td>\n",
              "      <td>R2578852</td>\n",
              "      <td>1796044.0</td>\n",
              "      <td>1802247.0</td>\n",
              "      <td>1837722.0</td>\n",
              "      <td>1811617.0</td>\n",
              "      <td>1850000.0</td>\n",
              "      <td>1985050</td>\n",
              "    </tr>\n",
              "    <tr>\n",
              "      <th>101</th>\n",
              "      <td>102</td>\n",
              "      <td>R2574827</td>\n",
              "      <td>2161322.0</td>\n",
              "      <td>2190088.0</td>\n",
              "      <td>2188214.0</td>\n",
              "      <td>2158794.0</td>\n",
              "      <td>2188000.0</td>\n",
              "      <td>2100000</td>\n",
              "    </tr>\n",
              "    <tr>\n",
              "      <th>102</th>\n",
              "      <td>103</td>\n",
              "      <td>R2582402</td>\n",
              "      <td>2269818.0</td>\n",
              "      <td>2367734.0</td>\n",
              "      <td>2292584.0</td>\n",
              "      <td>2236361.0</td>\n",
              "      <td>2288000.0</td>\n",
              "      <td>2325000</td>\n",
              "    </tr>\n",
              "    <tr>\n",
              "      <th>103</th>\n",
              "      <td>104</td>\n",
              "      <td>R2574687</td>\n",
              "      <td>2436592.0</td>\n",
              "      <td>2429570.0</td>\n",
              "      <td>2376675.0</td>\n",
              "      <td>2385861.0</td>\n",
              "      <td>2498000.0</td>\n",
              "      <td>2420000</td>\n",
              "    </tr>\n",
              "  </tbody>\n",
              "</table>\n",
              "<p>104 rows × 8 columns</p>\n",
              "</div>"
            ],
            "text/plain": [
              "     Unnamed: 0        ML  P_simple_normal  ...    P_mixed  AskingPrice  SalePrice\n",
              "0             1  R2578053         983977.0  ...   943866.0     865000.0     920000\n",
              "1             2  R2574782        1087540.0  ...  1035292.0     999999.0     933000\n",
              "2             3  R2583335        1060931.0  ...  1055638.0     949889.0     962500\n",
              "3             4  R2588413        1064912.0  ...  1031308.0     988800.0     975000\n",
              "4             5  R2576895         977498.0  ...   971709.0     859900.0     979000\n",
              "..          ...       ...              ...  ...        ...          ...        ...\n",
              "99          100  R2583500        2013630.0  ...  1998167.0    2000000.0    1955000\n",
              "100         101  R2578852        1796044.0  ...  1811617.0    1850000.0    1985050\n",
              "101         102  R2574827        2161322.0  ...  2158794.0    2188000.0    2100000\n",
              "102         103  R2582402        2269818.0  ...  2236361.0    2288000.0    2325000\n",
              "103         104  R2574687        2436592.0  ...  2385861.0    2498000.0    2420000\n",
              "\n",
              "[104 rows x 8 columns]"
            ]
          },
          "metadata": {
            "tags": []
          },
          "execution_count": 211
        }
      ]
    }
  ]
}